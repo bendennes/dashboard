{
 "cells": [
  {
   "cell_type": "code",
   "execution_count": 1,
   "metadata": {},
   "outputs": [],
   "source": [
    "import gzip\n",
    "import pickle\n",
    "import os\n",
    "\n",
    "from tqdm.notebook import tqdm_notebook as tqdm"
   ]
  },
  {
   "cell_type": "code",
   "execution_count": 2,
   "metadata": {},
   "outputs": [],
   "source": [
    "dashboard_folder = 'C:/Users/bd374/OneDrive - University of Exeter/Documents/CIFF project/dashboard'"
   ]
  },
  {
   "cell_type": "code",
   "execution_count": 3,
   "metadata": {},
   "outputs": [
    {
     "data": {
      "text/plain": [
       "['pr_137.pkl', 'pr_172.pkl', 'pr_2.pkl', 'pr_33.pkl', 'pr_77.pkl', 'pr_8.pkl']"
      ]
     },
     "execution_count": 3,
     "metadata": {},
     "output_type": "execute_result"
    }
   ],
   "source": [
    "tweet_pkl_fnames = [f for f in os.listdir(dashboard_folder) if f.endswith('pkl') and f != 'press_releases_embedded.pkl']\n",
    "tweet_pkl_fnames"
   ]
  },
  {
   "cell_type": "code",
   "execution_count": 22,
   "metadata": {},
   "outputs": [
    {
     "data": {
      "application/vnd.jupyter.widget-view+json": {
       "model_id": "ac21d3a24b4549d997f805fb93d5d2e0",
       "version_major": 2,
       "version_minor": 0
      },
      "text/plain": [
       "  0%|          | 0/6 [00:00<?, ?it/s]"
      ]
     },
     "metadata": {},
     "output_type": "display_data"
    }
   ],
   "source": [
    "for fname in tqdm(tweet_pkl_fnames):\n",
    "    title = fname.split('.')[0]\n",
    "\n",
    "    with open(f'{dashboard_folder}/{title}.pkl', 'rb') as f:\n",
    "        df = pickle.load(f)\n",
    "\n",
    "    with gzip.open(f'{dashboard_folder}/{title}.gz', 'wb') as f:\n",
    "        pickle.dump(df, f)"
   ]
  },
  {
   "cell_type": "code",
   "execution_count": 5,
   "metadata": {},
   "outputs": [
    {
     "data": {
      "text/plain": [
       "('pr_137.pkl', 'pr_137')"
      ]
     },
     "execution_count": 5,
     "metadata": {},
     "output_type": "execute_result"
    }
   ],
   "source": [
    "fname = tweet_pkl_fnames[0]\n",
    "title = fname.split('.')[0]\n",
    "fname, title"
   ]
  },
  {
   "cell_type": "code",
   "execution_count": 19,
   "metadata": {},
   "outputs": [],
   "source": [
    "with open(f'{dashboard_folder}/{title}.pkl', 'rb') as f:\n",
    "    df = pickle.load(f)"
   ]
  },
  {
   "cell_type": "code",
   "execution_count": 20,
   "metadata": {},
   "outputs": [],
   "source": [
    "with gzip.open(f'{title}.gz', 'wb') as f:\n",
    "    pickle.dump(df, f)"
   ]
  },
  {
   "cell_type": "code",
   "execution_count": 6,
   "metadata": {},
   "outputs": [],
   "source": [
    "with gzip.open(f'{title}.gz', 'rb') as f:\n",
    "    df = pickle.load(f)"
   ]
  },
  {
   "cell_type": "code",
   "execution_count": 14,
   "metadata": {},
   "outputs": [
    {
     "data": {
      "text/html": [
       "<div>\n",
       "<style scoped>\n",
       "    .dataframe tbody tr th:only-of-type {\n",
       "        vertical-align: middle;\n",
       "    }\n",
       "\n",
       "    .dataframe tbody tr th {\n",
       "        vertical-align: top;\n",
       "    }\n",
       "\n",
       "    .dataframe thead th {\n",
       "        text-align: right;\n",
       "    }\n",
       "</style>\n",
       "<table border=\"1\" class=\"dataframe\">\n",
       "  <thead>\n",
       "    <tr style=\"text-align: right;\">\n",
       "      <th></th>\n",
       "      <th>tweet_id</th>\n",
       "      <th>sim</th>\n",
       "      <th>timestamp</th>\n",
       "      <th>date</th>\n",
       "    </tr>\n",
       "  </thead>\n",
       "  <tbody>\n",
       "    <tr>\n",
       "      <th>3001</th>\n",
       "      <td>1335011000156819457</td>\n",
       "      <td>0.623441</td>\n",
       "      <td>2020-12-05 00:00:00+00:00</td>\n",
       "      <td>2020-12-05</td>\n",
       "    </tr>\n",
       "    <tr>\n",
       "      <th>3002</th>\n",
       "      <td>1335011003482972160</td>\n",
       "      <td>0.307543</td>\n",
       "      <td>2020-12-05 00:00:01+00:00</td>\n",
       "      <td>2020-12-05</td>\n",
       "    </tr>\n",
       "    <tr>\n",
       "      <th>3003</th>\n",
       "      <td>1335011003516542988</td>\n",
       "      <td>0.130615</td>\n",
       "      <td>2020-12-05 00:00:01+00:00</td>\n",
       "      <td>2020-12-05</td>\n",
       "    </tr>\n",
       "    <tr>\n",
       "      <th>3004</th>\n",
       "      <td>1335011004749500417</td>\n",
       "      <td>0.570579</td>\n",
       "      <td>2020-12-05 00:00:01+00:00</td>\n",
       "      <td>2020-12-05</td>\n",
       "    </tr>\n",
       "    <tr>\n",
       "      <th>3005</th>\n",
       "      <td>1335011005999370242</td>\n",
       "      <td>0.142336</td>\n",
       "      <td>2020-12-05 00:00:01+00:00</td>\n",
       "      <td>2020-12-05</td>\n",
       "    </tr>\n",
       "    <tr>\n",
       "      <th>...</th>\n",
       "      <td>...</td>\n",
       "      <td>...</td>\n",
       "      <td>...</td>\n",
       "      <td>...</td>\n",
       "    </tr>\n",
       "    <tr>\n",
       "      <th>891381</th>\n",
       "      <td>1340446790806511616</td>\n",
       "      <td>0.633400</td>\n",
       "      <td>2020-12-19 23:59:53+00:00</td>\n",
       "      <td>2020-12-19</td>\n",
       "    </tr>\n",
       "    <tr>\n",
       "      <th>891382</th>\n",
       "      <td>1340446791435612160</td>\n",
       "      <td>0.614210</td>\n",
       "      <td>2020-12-19 23:59:54+00:00</td>\n",
       "      <td>2020-12-19</td>\n",
       "    </tr>\n",
       "    <tr>\n",
       "      <th>891383</th>\n",
       "      <td>1340446795353251840</td>\n",
       "      <td>0.392352</td>\n",
       "      <td>2020-12-19 23:59:54+00:00</td>\n",
       "      <td>2020-12-19</td>\n",
       "    </tr>\n",
       "    <tr>\n",
       "      <th>891384</th>\n",
       "      <td>1340446801091026944</td>\n",
       "      <td>0.276857</td>\n",
       "      <td>2020-12-19 23:59:56+00:00</td>\n",
       "      <td>2020-12-19</td>\n",
       "    </tr>\n",
       "    <tr>\n",
       "      <th>891385</th>\n",
       "      <td>1340446813392814082</td>\n",
       "      <td>0.633400</td>\n",
       "      <td>2020-12-19 23:59:59+00:00</td>\n",
       "      <td>2020-12-19</td>\n",
       "    </tr>\n",
       "  </tbody>\n",
       "</table>\n",
       "<p>888385 rows × 4 columns</p>\n",
       "</div>"
      ],
      "text/plain": [
       "                   tweet_id       sim                 timestamp        date\n",
       "3001    1335011000156819457  0.623441 2020-12-05 00:00:00+00:00  2020-12-05\n",
       "3002    1335011003482972160  0.307543 2020-12-05 00:00:01+00:00  2020-12-05\n",
       "3003    1335011003516542988  0.130615 2020-12-05 00:00:01+00:00  2020-12-05\n",
       "3004    1335011004749500417  0.570579 2020-12-05 00:00:01+00:00  2020-12-05\n",
       "3005    1335011005999370242  0.142336 2020-12-05 00:00:01+00:00  2020-12-05\n",
       "...                     ...       ...                       ...         ...\n",
       "891381  1340446790806511616  0.633400 2020-12-19 23:59:53+00:00  2020-12-19\n",
       "891382  1340446791435612160  0.614210 2020-12-19 23:59:54+00:00  2020-12-19\n",
       "891383  1340446795353251840  0.392352 2020-12-19 23:59:54+00:00  2020-12-19\n",
       "891384  1340446801091026944  0.276857 2020-12-19 23:59:56+00:00  2020-12-19\n",
       "891385  1340446813392814082  0.633400 2020-12-19 23:59:59+00:00  2020-12-19\n",
       "\n",
       "[888385 rows x 4 columns]"
      ]
     },
     "execution_count": 14,
     "metadata": {},
     "output_type": "execute_result"
    }
   ],
   "source": [
    "df"
   ]
  }
 ],
 "metadata": {
  "interpreter": {
   "hash": "ad2bdc8ecc057115af97d19610ffacc2b4e99fae6737bb82f5d7fb13d2f2c186"
  },
  "kernelspec": {
   "display_name": "Python 3.9.7 ('base')",
   "language": "python",
   "name": "python3"
  },
  "language_info": {
   "codemirror_mode": {
    "name": "ipython",
    "version": 3
   },
   "file_extension": ".py",
   "mimetype": "text/x-python",
   "name": "python",
   "nbconvert_exporter": "python",
   "pygments_lexer": "ipython3",
   "version": "3.9.7"
  },
  "orig_nbformat": 4
 },
 "nbformat": 4,
 "nbformat_minor": 2
}
